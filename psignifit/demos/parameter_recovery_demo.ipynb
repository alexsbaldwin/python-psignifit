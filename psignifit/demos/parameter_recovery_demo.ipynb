{
  "cells": [
    {
      "cell_type": "markdown",
      "source": [
        "# Parameter Recovery Demo\n",
        "\n",
        "In this demo, we show a parameter recovery using `psignifit`. Parameter recovery is a crucial step in validating the robustness and accuracy of a model. We simulate data with known parameters and then attempt to recover those parameters using the psignifit algorithm. If the fitting procedure returns the same parameter values as the true parameters that generated the data, then we can be sure that the fitting works correctly. In `tests/test_param_recovery.py` we systematically run this test.\n",
        "\n",
        "We will cover the following steps:\n",
        "\n",
        "  1. Simulating data with known parameters.\n",
        "  \n",
        "  2. Fitting the model to the simulated data.\n",
        "  \n",
        "  3. Comparing the recovered parameters to the original parameters.\n"
      ],
      "metadata": {
        "nteract": {
          "transient": {
            "deleting": false
          }
        }
      }
    },
    {
      "cell_type": "code",
      "source": [
        "import psignifit\n",
        "from psignifit import psigniplot\n",
        "import numpy as np\n",
        "from matplotlib import pyplot as plt"
      ],
      "outputs": [],
      "execution_count": 1,
      "metadata": {
        "collapsed": true,
        "jupyter": {
          "source_hidden": false,
          "outputs_hidden": false
        },
        "nteract": {
          "transient": {
            "deleting": false
          }
        },
        "execution": {
          "iopub.status.busy": "2024-09-20T16:10:51.856Z",
          "iopub.execute_input": "2024-09-20T16:10:51.863Z",
          "iopub.status.idle": "2024-09-20T16:10:52.525Z",
          "shell.execute_reply": "2024-09-20T16:10:52.543Z"
        }
      }
    },
    {
      "cell_type": "markdown",
      "source": [
        "First, we set parameters using which the data will be simulated"
      ],
      "metadata": {
        "nteract": {
          "transient": {
            "deleting": false
          }
        }
      }
    },
    {
      "cell_type": "code",
      "source": [
        "width = 0.3\n",
        "stim_range = [0.001, 0.001 + width * 1.1]\n",
        "threshold = stim_range[1]/3\n",
        "lambda_ = 0.0232\n",
        "gamma = 0.1\n",
        "nsteps = 20\n",
        "num_trials = 50000\n",
        "sigmoid = \"norm\"\n",
        "stimulus_level = np.linspace(stim_range[0], stim_range[1], nsteps)"
      ],
      "outputs": [],
      "execution_count": 2,
      "metadata": {
        "collapsed": true,
        "jupyter": {
          "source_hidden": false,
          "outputs_hidden": false
        },
        "nteract": {
          "transient": {
            "deleting": false
          }
        },
        "execution": {
          "iopub.status.busy": "2024-09-20T16:10:52.530Z",
          "iopub.execute_input": "2024-09-20T16:10:52.533Z",
          "iopub.status.idle": "2024-09-20T16:10:52.539Z",
          "shell.execute_reply": "2024-09-20T16:10:52.546Z"
        }
      }
    },
    {
      "cell_type": "markdown",
      "source": [
        "Using the `tools.psychometric` we can simulate percent correct values for each stimulus level"
      ],
      "metadata": {
        "nteract": {
          "transient": {
            "deleting": false
          }
        }
      }
    },
    {
      "cell_type": "code",
      "source": [
        "perccorr = psignifit.tools.psychometric(stimulus_level, threshold, width, gamma, lambda_, sigmoid)"
      ],
      "outputs": [],
      "execution_count": 3,
      "metadata": {
        "collapsed": true,
        "jupyter": {
          "source_hidden": false,
          "outputs_hidden": false
        },
        "nteract": {
          "transient": {
            "deleting": false
          }
        },
        "execution": {
          "iopub.status.busy": "2024-09-20T16:10:52.851Z",
          "iopub.execute_input": "2024-09-20T16:10:52.857Z",
          "iopub.status.idle": "2024-09-20T16:10:52.863Z",
          "shell.execute_reply": "2024-09-20T16:10:52.868Z"
        }
      }
    },
    {
      "cell_type": "markdown",
      "source": [
        "We construct our data array"
      ],
      "metadata": {
        "nteract": {
          "transient": {
            "deleting": false
          }
        }
      }
    },
    {
      "cell_type": "code",
      "source": [
        "ntrials = np.ones(nsteps) * num_trials\n",
        "hits = (perccorr * ntrials).astype(int)\n",
        "data = np.dstack([stimulus_level, hits, ntrials]).squeeze()\n"
      ],
      "outputs": [],
      "execution_count": 4,
      "metadata": {
        "collapsed": true,
        "jupyter": {
          "source_hidden": false,
          "outputs_hidden": false
        },
        "nteract": {
          "transient": {
            "deleting": false
          }
        },
        "execution": {
          "iopub.status.busy": "2024-09-20T16:10:53.307Z",
          "iopub.execute_input": "2024-09-20T16:10:53.310Z",
          "iopub.status.idle": "2024-09-20T16:10:53.315Z",
          "shell.execute_reply": "2024-09-20T16:10:53.319Z"
        }
      }
    },
    {
      "cell_type": "code",
      "source": [
        "fig, ax = plt.subplots()\n",
        "ax.scatter(stimulus_level, perccorr)\n",
        "ax.set_xlabel(\"Stimulus Level\")\n",
        "ax.set_ylabel(\"Percent Correct\")"
      ],
      "outputs": [
        {
          "output_type": "execute_result",
          "execution_count": 5,
          "data": {
            "text/plain": "Text(0, 0.5, 'Percent Correct')"
          },
          "metadata": {}
        },
        {
          "output_type": "display_data",
          "data": {
            "text/plain": "<Figure size 640x480 with 1 Axes>",
            "image/png": "[encoded data removed]"
          },
          "metadata": {}
        }
      ],
      "execution_count": 5,
      "metadata": {
        "collapsed": false,
        "jupyter": {
          "source_hidden": false,
          "outputs_hidden": false
        },
        "nteract": {
          "transient": {
            "deleting": false
          }
        },
        "execution": {
          "iopub.status.busy": "2024-09-20T16:10:53.464Z",
          "iopub.execute_input": "2024-09-20T16:10:53.468Z",
          "iopub.status.idle": "2024-09-20T16:10:53.543Z",
          "shell.execute_reply": "2024-09-20T16:10:53.554Z"
        }
      }
    },
    {
      "cell_type": "markdown",
      "source": [
        "We set the options for our fit. In this case we assume a yes/no experiment and we want to estimate all parameters (i.e. fix none)."
      ],
      "metadata": {
        "nteract": {
          "transient": {
            "deleting": false
          }
        }
      }
    },
    {
      "cell_type": "code",
      "source": [
        "options = {}\n",
        "options['sigmoid'] = sigmoid \n",
        "options['experiment_type'] = 'yes/no'\n",
        "options['fixed_parameters'] = {}\n",
        "options[\"stimulus_range\"] = stim_range"
      ],
      "outputs": [],
      "execution_count": 6,
      "metadata": {
        "collapsed": true,
        "jupyter": {
          "source_hidden": false,
          "outputs_hidden": false
        },
        "nteract": {
          "transient": {
            "deleting": false
          }
        },
        "execution": {
          "iopub.status.busy": "2024-09-20T16:10:53.935Z",
          "iopub.execute_input": "2024-09-20T16:10:53.940Z",
          "iopub.status.idle": "2024-09-20T16:10:53.946Z",
          "shell.execute_reply": "2024-09-20T16:10:53.949Z"
        }
      }
    },
    {
      "cell_type": "markdown",
      "source": [
        "Now we run the fitting procedure"
      ],
      "metadata": {
        "nteract": {
          "transient": {
            "deleting": false
          }
        }
      }
    },
    {
      "cell_type": "code",
      "source": [
        "res = psignifit.psignifit(data, **options)"
      ],
      "outputs": [],
      "execution_count": 7,
      "metadata": {
        "collapsed": true,
        "jupyter": {
          "source_hidden": false,
          "outputs_hidden": false
        },
        "nteract": {
          "transient": {
            "deleting": false
          }
        },
        "execution": {
          "iopub.status.busy": "2024-09-20T16:10:54.500Z",
          "iopub.execute_input": "2024-09-20T16:10:54.505Z",
          "iopub.status.idle": "2024-09-20T16:11:07.444Z",
          "shell.execute_reply": "2024-09-20T16:11:07.438Z"
        }
      }
    },
    {
      "cell_type": "markdown",
      "source": [
        "Lastly, we can ensure that the values in our `res.parameter_estimate` dictionary are equal to the values that we used to simulate them"
      ],
      "metadata": {
        "nteract": {
          "transient": {
            "deleting": false
          }
        }
      }
    },
    {
      "cell_type": "code",
      "source": [
        "assert np.isclose(res.parameter_estimate['lambda'], lambda_, atol=1e-4)"
      ],
      "outputs": [],
      "execution_count": 12,
      "metadata": {
        "collapsed": true,
        "jupyter": {
          "source_hidden": false,
          "outputs_hidden": false
        },
        "nteract": {
          "transient": {
            "deleting": false
          }
        },
        "execution": {
          "iopub.status.busy": "2024-09-20T16:11:26.614Z",
          "iopub.execute_input": "2024-09-20T16:11:26.621Z",
          "iopub.status.idle": "2024-09-20T16:11:26.629Z",
          "shell.execute_reply": "2024-09-20T16:11:26.633Z"
        }
      }
    },
    {
      "cell_type": "code",
      "source": [
        "assert np.isclose(res.parameter_estimate['gamma'], gamma, atol=1e-3)"
      ],
      "outputs": [],
      "execution_count": 16,
      "metadata": {
        "collapsed": true,
        "jupyter": {
          "source_hidden": false,
          "outputs_hidden": false
        },
        "nteract": {
          "transient": {
            "deleting": false
          }
        },
        "execution": {
          "iopub.status.busy": "2024-09-20T16:11:46.104Z",
          "iopub.execute_input": "2024-09-20T16:11:46.109Z",
          "iopub.status.idle": "2024-09-20T16:11:46.116Z",
          "shell.execute_reply": "2024-09-20T16:11:46.121Z"
        }
      }
    },
    {
      "cell_type": "code",
      "source": [
        "assert np.isclose(res.parameter_estimate['eta'], 0, atol=1e-4)\n",
        "assert np.isclose(res.parameter_estimate['threshold'], threshold, atol=1e-4)\n",
        "assert np.isclose(res.parameter_estimate['width'], width, atol=1e-4)"
      ],
      "outputs": [],
      "execution_count": 17,
      "metadata": {
        "collapsed": true,
        "jupyter": {
          "source_hidden": false,
          "outputs_hidden": false
        },
        "nteract": {
          "transient": {
            "deleting": false
          }
        },
        "execution": {
          "iopub.status.busy": "2024-09-20T16:11:48.156Z",
          "iopub.execute_input": "2024-09-20T16:11:48.162Z",
          "iopub.status.idle": "2024-09-20T16:11:48.168Z",
          "shell.execute_reply": "2024-09-20T16:11:48.171Z"
        }
      }
    },
    {
      "cell_type": "code",
      "source": [
        "fig, ax = plt.subplots()\n",
        "psigniplot.plot_psychometric_function(res, ax=ax)\n",
        "ax.scatter(stimulus_level, perccorr)"
      ],
      "outputs": [
        {
          "output_type": "execute_result",
          "execution_count": 11,
          "data": {
            "text/plain": "<matplotlib.collections.PathCollection at 0x15eb633d0>"
          },
          "metadata": {}
        },
        {
          "output_type": "display_data",
          "data": {
            "text/plain": "<Figure size 640x480 with 1 Axes>",
            "image/png": "[encoded data removed]"
          },
          "metadata": {}
        }
      ],
      "execution_count": 11,
      "metadata": {
        "collapsed": false,
        "jupyter": {
          "source_hidden": false,
          "outputs_hidden": false
        },
        "nteract": {
          "transient": {
            "deleting": false
          }
        },
        "execution": {
          "iopub.status.busy": "2024-09-20T16:11:18.092Z",
          "iopub.execute_input": "2024-09-20T16:11:18.097Z",
          "iopub.status.idle": "2024-09-20T16:11:18.151Z",
          "shell.execute_reply": "2024-09-20T16:11:18.161Z"
        }
      }
    },
    {
      "cell_type": "markdown",
      "source": [
        "# And now with some more realistic data..."
      ],
      "metadata": {
        "nteract": {
          "transient": {
            "deleting": false
          }
        }
      }
    },
    {
      "cell_type": "code",
      "source": [
        "eta = 0.2 # this parameter decides how noisy (overdispersed) the data is\n",
        "perccorr = psignifit.tools.psychometric_with_eta(stimulus_level, threshold, width, gamma, lambda_, sigmoid, eta)\n",
        "\n",
        "ntrials = np.ones(nsteps) * num_trials\n",
        "hits = (perccorr * ntrials).astype(int)\n",
        "data = np.dstack([stimulus_level, hits, ntrials]).squeeze()"
      ],
      "outputs": [],
      "execution_count": 30,
      "metadata": {
        "collapsed": true,
        "jupyter": {
          "source_hidden": false,
          "outputs_hidden": false
        },
        "nteract": {
          "transient": {
            "deleting": false
          }
        },
        "execution": {
          "iopub.status.busy": "2024-09-20T16:14:30.685Z",
          "iopub.execute_input": "2024-09-20T16:14:30.690Z",
          "iopub.status.idle": "2024-09-20T16:14:30.698Z",
          "shell.execute_reply": "2024-09-20T16:14:30.704Z"
        }
      }
    },
    {
      "cell_type": "code",
      "source": [
        "fig, ax = plt.subplots()\n",
        "ax.scatter(stimulus_level, perccorr)\n",
        "ax.set_xlabel(\"Stimulus Level\")\n",
        "ax.set_ylabel(\"Percent Correct\")"
      ],
      "outputs": [
        {
          "output_type": "execute_result",
          "execution_count": 31,
          "data": {
            "text/plain": "Text(0, 0.5, 'Percent Correct')"
          },
          "metadata": {}
        },
        {
          "output_type": "display_data",
          "data": {
            "text/plain": "<Figure size 640x480 with 1 Axes>",
            "image/png": "[encoded data removed]"
          },
          "metadata": {}
        }
      ],
      "execution_count": 31,
      "metadata": {
        "collapsed": false,
        "jupyter": {
          "source_hidden": false,
          "outputs_hidden": false
        },
        "nteract": {
          "transient": {
            "deleting": false
          }
        },
        "execution": {
          "iopub.status.busy": "2024-09-20T16:14:31.112Z",
          "iopub.execute_input": "2024-09-20T16:14:31.117Z",
          "iopub.status.idle": "2024-09-20T16:14:31.160Z",
          "shell.execute_reply": "2024-09-20T16:14:31.173Z"
        }
      }
    },
    {
      "cell_type": "markdown",
      "source": [
        "We run the fit again"
      ],
      "metadata": {
        "nteract": {
          "transient": {
            "deleting": false
          }
        }
      }
    },
    {
      "cell_type": "code",
      "source": [
        "options = {}\n",
        "options['sigmoid'] = sigmoid \n",
        "options['experiment_type'] = 'yes/no'\n",
        "options['fixed_parameters'] = {}\n",
        "options[\"stimulus_range\"] = stim_range"
      ],
      "outputs": [],
      "execution_count": 32,
      "metadata": {
        "collapsed": true,
        "jupyter": {
          "source_hidden": false,
          "outputs_hidden": false
        },
        "nteract": {
          "transient": {
            "deleting": false
          }
        },
        "execution": {
          "iopub.status.busy": "2024-09-20T16:14:32.156Z",
          "iopub.execute_input": "2024-09-20T16:14:32.161Z",
          "iopub.status.idle": "2024-09-20T16:14:32.172Z",
          "shell.execute_reply": "2024-09-20T16:14:32.180Z"
        }
      }
    },
    {
      "cell_type": "code",
      "source": [
        "res = psignifit.psignifit(data, **options)"
      ],
      "outputs": [],
      "execution_count": 33,
      "metadata": {
        "collapsed": true,
        "jupyter": {
          "source_hidden": false,
          "outputs_hidden": false
        },
        "nteract": {
          "transient": {
            "deleting": false
          }
        },
        "execution": {
          "iopub.status.busy": "2024-09-20T16:14:32.622Z",
          "iopub.execute_input": "2024-09-20T16:14:32.627Z",
          "iopub.status.idle": "2024-09-20T16:14:47.945Z",
          "shell.execute_reply": "2024-09-20T16:14:47.954Z"
        }
      }
    },
    {
      "cell_type": "markdown",
      "source": [
        "plot to ensure we found a good fit"
      ],
      "metadata": {
        "nteract": {
          "transient": {
            "deleting": false
          }
        }
      }
    },
    {
      "cell_type": "code",
      "source": [
        "fig, ax = plt.subplots()\n",
        "psigniplot.plot_psychometric_function(res, ax=ax)"
      ],
      "outputs": [
        {
          "output_type": "execute_result",
          "execution_count": 35,
          "data": {
            "text/plain": "<Axes: xlabel='Stimulus Level', ylabel='Proportion Correct'>"
          },
          "metadata": {}
        },
        {
          "output_type": "display_data",
          "data": {
            "text/plain": "<Figure size 640x480 with 1 Axes>",
            "image/png": "[encoded data removed]"
          },
          "metadata": {}
        }
      ],
      "execution_count": 35,
      "metadata": {
        "collapsed": false,
        "jupyter": {
          "source_hidden": false,
          "outputs_hidden": false
        },
        "nteract": {
          "transient": {
            "deleting": false
          }
        },
        "execution": {
          "iopub.status.busy": "2024-09-20T16:14:47.981Z",
          "iopub.execute_input": "2024-09-20T16:14:47.986Z",
          "iopub.status.idle": "2024-09-20T16:14:48.044Z",
          "shell.execute_reply": "2024-09-20T16:14:48.058Z"
        }
      }
    },
    {
      "cell_type": "code",
      "source": [],
      "outputs": [],
      "execution_count": null,
      "metadata": {
        "collapsed": true,
        "jupyter": {
          "source_hidden": false,
          "outputs_hidden": false
        },
        "nteract": {
          "transient": {
            "deleting": false
          }
        }
      }
    }
  ],
  "metadata": {
    "kernel_info": {
      "name": "datana"
    },
    "language_info": {
      "name": "python",
      "version": "3.10.6",
      "mimetype": "text/x-python",
      "codemirror_mode": {
        "name": "ipython",
        "version": 3
      },
      "pygments_lexer": "ipython3",
      "nbconvert_exporter": "python",
      "file_extension": ".py"
    },
    "kernelspec": {
      "argv": [
        "/Users/lisa/Documents/virtual_envs/datana/bin/python3",
        "-m",
        "ipykernel_launcher",
        "-f",
        "{connection_file}"
      ],
      "display_name": "datana",
      "language": "python",
      "metadata": {
        "debugger": true
      },
      "name": "datana"
    },
    "nteract": {
      "version": "0.28.0"
    }
  },
  "nbformat": 4,
  "nbformat_minor": 0
}